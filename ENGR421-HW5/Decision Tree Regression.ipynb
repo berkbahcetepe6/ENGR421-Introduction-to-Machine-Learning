{
 "cells": [
  {
   "cell_type": "code",
   "execution_count": 3,
   "metadata": {},
   "outputs": [],
   "source": [
    "import numpy as np\n",
    "import pandas as pd\n",
    "import matplotlib.pyplot as plt"
   ]
  },
  {
   "cell_type": "code",
   "execution_count": 4,
   "metadata": {},
   "outputs": [],
   "source": [
    "data_set = np.genfromtxt(\"hw05_data_set.csv\", delimiter = \",\",skip_header= True)"
   ]
  },
  {
   "cell_type": "code",
   "execution_count": null,
   "metadata": {},
   "outputs": [],
   "source": []
  },
  {
   "cell_type": "code",
   "execution_count": 5,
   "metadata": {},
   "outputs": [],
   "source": [
    "# get X and y values\n",
    "X = data_set[:,0]\n",
    "y = data_set[:,1].astype(int)\n",
    "\n",
    "# get number of classes, number of samples, and number of features\n",
    "K = np.max(y)\n",
    "N = X.shape[0]\n",
    "D = 1\n",
    "\n",
    "# get train and test splits\n",
    "train_indices = np.arange(150)\n",
    "test_indices = np.setdiff1d(range(N), train_indices)\n",
    "\n",
    "X_train = X[train_indices]\n",
    "y_train = y[train_indices]\n",
    "X_test = X[test_indices]\n",
    "y_test = y[test_indices]\n",
    "\n",
    "# get numbers of train and test samples\n",
    "N_train = X_train.shape[0]\n",
    "N_test = X_test.shape[0]"
   ]
  },
  {
   "cell_type": "code",
   "execution_count": 6,
   "metadata": {},
   "outputs": [],
   "source": [
    "def rmse(y_truth, y_pred):\n",
    "    r = np.sqrt(np.sum((y_truth-y_pred)**2) / len(y_truth))\n",
    "    return r"
   ]
  },
  {
   "cell_type": "code",
   "execution_count": null,
   "metadata": {},
   "outputs": [],
   "source": []
  },
  {
   "cell_type": "code",
   "execution_count": 7,
   "metadata": {},
   "outputs": [],
   "source": [
    "def prediction(data_interval, node_splits, is_terminal, N):\n",
    "    # traverse tree for training data points\n",
    "    y_predicted = np.repeat(0, N)\n",
    "    for i in range(N):\n",
    "        index = 1\n",
    "        while True:\n",
    "            if is_terminal[index] == True:\n",
    "                y_predicted[i] = node_splits[index]\n",
    "                break\n",
    "            else:\n",
    "                if data_interval[i] > node_splits[index]:\n",
    "                    index = index * 2\n",
    "                else:\n",
    "                    index = index * 2 + 1\n",
    "    return y_predicted"
   ]
  },
  {
   "cell_type": "code",
   "execution_count": null,
   "metadata": {},
   "outputs": [],
   "source": []
  },
  {
   "cell_type": "code",
   "execution_count": 8,
   "metadata": {},
   "outputs": [],
   "source": [
    "def decision_tree_regression(p, N_train, X_train, y_train, D):\n",
    "# create necessary data structures\n",
    "  node_indices = {}\n",
    "  is_terminal = {}\n",
    "  need_split = {}\n",
    "  node_splits = {}\n",
    "  \n",
    "# put all training instances into the root node\n",
    "  node_indices[1] = np.array(range(N_train))\n",
    "  is_terminal[1] = False\n",
    "  need_split[1] = True\n",
    "    \n",
    "# learning algorithm\n",
    "  while True:\n",
    "     \n",
    "    # find nodes that need splitting\n",
    "    split_nodes = [key for key, value in need_split.items() if value == True]\n",
    "   \n",
    "    if len(split_nodes) == 0:\n",
    "      break\n",
    "    # find best split positions for all nodes\n",
    "    for split_node in split_nodes:\n",
    "      data_indices = node_indices[split_node]\n",
    "      need_split[split_node] = False\n",
    "      \n",
    "      if len(data_indices) <= p:\n",
    "        is_terminal[split_node] = True\n",
    "        node_splits[split_node] = np.mean(y_train[data_indices])\n",
    "      else:\n",
    "        is_terminal[split_node] = False\n",
    "        \n",
    "        best_scores = np.repeat(0.0, D)\n",
    "        best_splits = np.repeat(0.0, D)\n",
    "        for d in range(D):\n",
    "            unique_values = np.sort(np.unique(X_train[data_indices]))\n",
    "            split_positions = (unique_values[1:len(unique_values)] + unique_values[0:(len(unique_values) - 1)]) / 2\n",
    "            split_scores = np.repeat(0.0, len(split_positions))\n",
    "\n",
    "            for s in range(len(split_positions)):\n",
    "              left_indices = data_indices[X_train[data_indices] > split_positions[s]]\n",
    "              right_indices = data_indices[X_train[data_indices] <= split_positions[s]]\n",
    "              left_mean = np.mean(y_train[left_indices])\n",
    "              right_mean = np.mean(y_train[right_indices])\n",
    "              score_storer = 0\n",
    "              score_storer += np.sum((y_train[left_indices]-left_mean)**2) + np.sum((y_train[right_indices] - right_mean)**2)\n",
    "              split_scores[s] = score_storer / (len(data_indices))\n",
    "            best_scores[d] = np.min(split_scores)\n",
    "            best_splits[d] = split_positions[np.argmin(split_scores)]\n",
    "        # decide where to split on which feature    \n",
    "        split_d = np.argmin(best_scores)    \n",
    "        node_splits[split_node] = best_splits[split_d]\n",
    "        # create left node using the selected split\n",
    "        left_indices = data_indices[X_train[data_indices] > best_splits[split_d]]\n",
    "        node_indices[2 * split_node] = left_indices\n",
    "        is_terminal[2 * split_node] = False\n",
    "        need_split[2 * split_node] = True\n",
    "        # create right node using the selected split\n",
    "        right_indices = data_indices[X_train[data_indices] <= best_splits[split_d]]\n",
    "        node_indices[2 * split_node + 1] = right_indices\n",
    "        is_terminal[2 * split_node + 1] = False\n",
    "        need_split[2 * split_node + 1] = True\n",
    "        \n",
    "  return node_splits, is_terminal"
   ]
  },
  {
   "cell_type": "code",
   "execution_count": null,
   "metadata": {},
   "outputs": [],
   "source": []
  },
  {
   "cell_type": "code",
   "execution_count": 9,
   "metadata": {},
   "outputs": [],
   "source": [
    "P = 25"
   ]
  },
  {
   "cell_type": "code",
   "execution_count": 11,
   "metadata": {},
   "outputs": [],
   "source": [
    "node_splits, is_terminal = decision_tree_regression(P, N_train, X_train, y_train, D)"
   ]
  },
  {
   "cell_type": "code",
   "execution_count": 12,
   "metadata": {},
   "outputs": [
    {
     "data": {
      "text/plain": [
       "<matplotlib.legend.Legend at 0x20b554b4b50>"
      ]
     },
     "execution_count": 12,
     "metadata": {},
     "output_type": "execute_result"
    },
    {
     "data": {
      "image/png": "[encoded data removed]",
      "text/plain": [
       "<Figure size 720x360 with 1 Axes>"
      ]
     },
     "metadata": {
      "needs_background": "light"
     },
     "output_type": "display_data"
    }
   ],
   "source": [
    "data_interval = np.linspace(1.5, 5.2, 150)\n",
    "y_predicted = prediction(data_interval, node_splits, is_terminal, N_train)\n",
    "\n",
    "plt.figure(figsize = (10, 5))\n",
    "plt.plot(X_train,y_train,\"b.\", markersize = 10)\n",
    "plt.plot(X_test,y_test,\"r.\", markersize = 10)\n",
    "plt.xlabel(\"Eruption time (min)\")\n",
    "plt.ylabel(\"Waiting time to next eruption (min)\")\n",
    "plt.plot(data_interval, y_predicted, \"k-\")\n",
    "plt.legend([\"training\", \"test\"], loc =\"upper left\")"
   ]
  },
  {
   "cell_type": "code",
   "execution_count": 13,
   "metadata": {},
   "outputs": [
    {
     "name": "stdout",
     "output_type": "stream",
     "text": [
      "RMSE on training set is 4.550457852421739 when P is 25\n"
     ]
    }
   ],
   "source": [
    "y_predicted_train = prediction(X_train, node_splits, is_terminal, N_train)\n",
    "rmse_train = rmse(y_train, y_predicted_train)\n",
    "print(\"RMSE on training set is {} when P is {}\".format(rmse_train, P))"
   ]
  },
  {
   "cell_type": "code",
   "execution_count": 14,
   "metadata": {},
   "outputs": [
    {
     "name": "stdout",
     "output_type": "stream",
     "text": [
      "RMSE on test set is 6.437594500340921 when P is 25\n"
     ]
    }
   ],
   "source": [
    "y_predicted_test = prediction(X_test, node_splits, is_terminal, N_test)\n",
    "rmse_test = rmse(y_test, y_predicted_test)\n",
    "print(\"RMSE on test set is {} when P is {}\".format(rmse_test, P))"
   ]
  },
  {
   "cell_type": "code",
   "execution_count": 15,
   "metadata": {},
   "outputs": [
    {
     "name": "stdout",
     "output_type": "stream",
     "text": [
      "[ 5 10 15 20 25 30 35 40 45 50]\n"
     ]
    }
   ],
   "source": [
    "pre_pruning_parameters = np.linspace(5,50,10).astype(int)\n",
    "print(pre_pruning_parameters)"
   ]
  },
  {
   "cell_type": "code",
   "execution_count": 17,
   "metadata": {},
   "outputs": [],
   "source": [
    "rmse_test_storer = np.array([])\n",
    "rmse_train_storer = np.array([])\n",
    "for i in pre_pruning_parameters:\n",
    "    node_splits1, is_terminal1 = decision_tree_regression(i, N_train, X_train, y_train, D)\n",
    "    y_predicted_train1 = prediction(X_train, node_splits1, is_terminal1, N_train)\n",
    "    rmse_train_1 = rmse(y_train, y_predicted_train1)\n",
    "    y_predicted_test1 = prediction(X_test, node_splits1, is_terminal1, N_test)\n",
    "    rmse_test_1 = rmse(y_test, y_predicted_test1)\n",
    "    rmse_train_storer = np.append(rmse_train_storer, rmse_train_1)\n",
    "    rmse_test_storer = np.append(rmse_test_storer, rmse_test_1)"
   ]
  },
  {
   "cell_type": "code",
   "execution_count": 18,
   "metadata": {},
   "outputs": [
    {
     "data": {
      "text/plain": [
       "<matplotlib.legend.Legend at 0x20b55577eb0>"
      ]
     },
     "execution_count": 18,
     "metadata": {},
     "output_type": "execute_result"
    },
    {
     "data": {
      "image/png": "[encoded data removed]",
      "text/plain": [
       "<Figure size 720x720 with 1 Axes>"
      ]
     },
     "metadata": {
      "needs_background": "light"
     },
     "output_type": "display_data"
    }
   ],
   "source": [
    "plt.figure(figsize = (10, 10))\n",
    "plt.plot(pre_pruning_parameters, rmse_train_storer, \"bo-\", )\n",
    "plt.plot(pre_pruning_parameters, rmse_test_storer, \"ro-\")\n",
    "plt.xlabel(\"Pre-pruning size (P)\")\n",
    "plt.ylabel(\"RMSE\")\n",
    "plt.legend([\"training\", \"test\"], loc =\"upper right\")"
   ]
  },
  {
   "cell_type": "code",
   "execution_count": null,
   "metadata": {},
   "outputs": [],
   "source": []
  }
 ],
 "metadata": {
  "kernelspec": {
   "display_name": "Python 3",
   "language": "python",
   "name": "python3"
  },
  "language_info": {
   "codemirror_mode": {
    "name": "ipython",
    "version": 3
   },
   "file_extension": ".py",
   "mimetype": "text/x-python",
   "name": "python",
   "nbconvert_exporter": "python",
   "pygments_lexer": "ipython3",
   "version": "3.8.1"
  }
 },
 "nbformat": 4,
 "nbformat_minor": 4
}
