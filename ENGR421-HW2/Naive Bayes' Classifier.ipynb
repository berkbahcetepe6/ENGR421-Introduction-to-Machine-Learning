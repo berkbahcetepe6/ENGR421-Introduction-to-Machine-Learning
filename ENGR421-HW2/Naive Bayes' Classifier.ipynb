{
 "cells": [
  {
   "cell_type": "code",
   "execution_count": 1,
   "metadata": {},
   "outputs": [],
   "source": [
    "import numpy as np\n",
    "import pandas as pd\n",
    "import math\n",
    "import scipy.linalg as linalg"
   ]
  },
  {
   "cell_type": "code",
   "execution_count": 2,
   "metadata": {},
   "outputs": [],
   "source": [
    "data_set_labels = np.genfromtxt(\"hw02_labels.csv\")"
   ]
  },
  {
   "cell_type": "code",
   "execution_count": 3,
   "metadata": {},
   "outputs": [],
   "source": [
    "data_set_images = np.genfromtxt(\"hw02_images.csv\",delimiter=',')"
   ]
  },
  {
   "cell_type": "code",
   "execution_count": null,
   "metadata": {},
   "outputs": [],
   "source": []
  },
  {
   "cell_type": "code",
   "execution_count": 4,
   "metadata": {},
   "outputs": [],
   "source": [
    "#groups the data and their labels\n",
    "x_train = data_set_images[:30000,:]\n",
    "y_train = data_set_labels[:30000]\n",
    "x_test = data_set_images[30000:,:]\n",
    "y_test = data_set_labels[30000:]"
   ]
  },
  {
   "cell_type": "code",
   "execution_count": 5,
   "metadata": {},
   "outputs": [],
   "source": [
    "K = np.max(y_train).astype(int)\n",
    "N = x_train.shape[0]"
   ]
  },
  {
   "cell_type": "code",
   "execution_count": null,
   "metadata": {},
   "outputs": [],
   "source": []
  },
  {
   "cell_type": "code",
   "execution_count": 6,
   "metadata": {},
   "outputs": [],
   "source": [
    "#calculates the sample means\n",
    "sample_means= np.array([])\n",
    "for i in range(K):\n",
    "    for j in range(x_train.shape[1]):\n",
    "        mean=np.mean(x_train[y_train==(i+1)][:,j])\n",
    "        sample_means=np.append(sample_means,mean)\n",
    "        \n",
    "sample_means=sample_means.reshape(5,784)"
   ]
  },
  {
   "cell_type": "code",
   "execution_count": 7,
   "metadata": {},
   "outputs": [
    {
     "name": "stdout",
     "output_type": "stream",
     "text": [
      "[[254.99866667 254.98416667 254.85616667 ... 254.679      254.87816667\n",
      "  254.95933333]\n",
      " [254.99733333 254.99733333 254.9965     ... 254.96883333 254.99216667\n",
      "  254.98866667]\n",
      " [254.99933333 254.99933333 254.99233333 ... 251.52483333 254.4725\n",
      "  254.97483333]\n",
      " [254.99666667 254.98983333 254.91416667 ... 252.39516667 254.44166667\n",
      "  254.93666667]\n",
      " [254.999      254.98433333 254.93783333 ... 250.673      253.23333333\n",
      "  254.79083333]]\n"
     ]
    }
   ],
   "source": [
    "print(sample_means)"
   ]
  },
  {
   "cell_type": "code",
   "execution_count": 8,
   "metadata": {},
   "outputs": [],
   "source": [
    "#calculates the sample deviations\n",
    "sample_deviations= np.array([])\n",
    "for i in range(K):\n",
    "    for j in range(x_train.shape[1]):\n",
    "        std=np.sqrt(np.mean((x_train[y_train==(i+1)][:,j]-sample_means[i,j])**2))\n",
    "        sample_deviations=np.append(sample_deviations,std)\n",
    "        \n",
    "sample_deviations=sample_deviations.reshape(5,784)"
   ]
  },
  {
   "cell_type": "code",
   "execution_count": 9,
   "metadata": {},
   "outputs": [
    {
     "name": "stdout",
     "output_type": "stream",
     "text": [
      "[[ 0.09127736  0.25609108  1.31090756 ...  5.29826629  3.9117332\n",
      "   1.93959091]\n",
      " [ 0.2065419   0.2065419   0.2163818  ...  1.04076669  0.47057267\n",
      "   0.70062226]\n",
      " [ 0.05163547  0.04081939  0.16002465 ... 18.43665868  6.7881694\n",
      "   1.1061344 ]\n",
      " [ 0.18436076  0.21617116  1.81046936 ... 15.67799977  6.34549162\n",
      "   1.79971911]\n",
      " [ 0.04471018  0.64582342  3.03248555 ... 23.62576428 13.9167006\n",
      "   4.4727787 ]]\n"
     ]
    }
   ],
   "source": [
    "print(sample_deviations)"
   ]
  },
  {
   "cell_type": "code",
   "execution_count": 10,
   "metadata": {},
   "outputs": [],
   "source": [
    "#calculates the class priors\n",
    "class_priors = [np.mean(y_train==(c+1)) for c in range(K)]"
   ]
  },
  {
   "cell_type": "code",
   "execution_count": 11,
   "metadata": {},
   "outputs": [
    {
     "name": "stdout",
     "output_type": "stream",
     "text": [
      "[0.2, 0.2, 0.2, 0.2, 0.2]\n"
     ]
    }
   ],
   "source": [
    "print(class_priors)"
   ]
  },
  {
   "cell_type": "code",
   "execution_count": null,
   "metadata": {},
   "outputs": [],
   "source": []
  },
  {
   "cell_type": "code",
   "execution_count": null,
   "metadata": {},
   "outputs": [],
   "source": []
  },
  {
   "cell_type": "code",
   "execution_count": null,
   "metadata": {},
   "outputs": [],
   "source": []
  },
  {
   "cell_type": "code",
   "execution_count": null,
   "metadata": {},
   "outputs": [],
   "source": []
  },
  {
   "cell_type": "code",
   "execution_count": null,
   "metadata": {},
   "outputs": [],
   "source": []
  },
  {
   "cell_type": "code",
   "execution_count": 12,
   "metadata": {},
   "outputs": [],
   "source": [
    "#calculates the gscore functions for each class\n",
    "def g_calc(x,mu,std,prior):\n",
    "    scores = np.array([])\n",
    "    for i in range(x.shape[0]):\n",
    "        for c in range(K):\n",
    "            score = np.array(np.sum(-0.5*np.log(2*math.pi*mu[c]**2)-0.5*(x[i]-mu[c])**2/std[c]**2 + np.log(prior[c])))\n",
    "            scores = np.append(scores,score)\n",
    "    return scores.reshape(x.shape[0],K)"
   ]
  },
  {
   "cell_type": "code",
   "execution_count": 13,
   "metadata": {
    "scrolled": true
   },
   "outputs": [],
   "source": [
    "y_train_pred = g_calc(x_train,sample_means,sample_deviations,class_priors)"
   ]
  },
  {
   "cell_type": "code",
   "execution_count": 14,
   "metadata": {},
   "outputs": [
    {
     "name": "stdout",
     "output_type": "stream",
     "text": [
      "y_truth   1.0   2.0   3.0   4.0   5.0\n",
      "y_pred                               \n",
      "1        4436   583    16  1103    20\n",
      "2         224  4035   173    74    96\n",
      "3         123   775  4704  1867    33\n",
      "4         971   574   933  2450   102\n",
      "5         246    33   174   506  5749\n"
     ]
    }
   ],
   "source": [
    "#confusion matrix for the training part\n",
    "y_train_predicted = np.argmax(y_train_pred, axis = 1) + 1\n",
    "confusion_matrix = pd.crosstab(y_train_predicted, y_train, rownames = ['y_pred'], colnames = ['y_truth'])\n",
    "print(confusion_matrix)"
   ]
  },
  {
   "cell_type": "code",
   "execution_count": 15,
   "metadata": {},
   "outputs": [],
   "source": [
    "y_test_pred = g_calc(x_test,sample_means,sample_deviations,class_priors)"
   ]
  },
  {
   "cell_type": "code",
   "execution_count": 16,
   "metadata": {},
   "outputs": [
    {
     "name": "stdout",
     "output_type": "stream",
     "text": [
      "y_truth  1.0  2.0  3.0  4.0  5.0\n",
      "y_pred                          \n",
      "1        736   91    0  199    3\n",
      "2         45  711   23   13   18\n",
      "3         19  112  814  289    4\n",
      "4        143   79  135  416   20\n",
      "5         57    7   28   83  955\n"
     ]
    }
   ],
   "source": [
    "#confusion matrix for the test part\n",
    "y_test_predicted = np.argmax(y_test_pred, axis = 1) + 1\n",
    "confusion_matrix1 = pd.crosstab(y_test_predicted, y_test, rownames = ['y_pred'], colnames = ['y_truth'])\n",
    "print(confusion_matrix1)"
   ]
  },
  {
   "cell_type": "code",
   "execution_count": null,
   "metadata": {},
   "outputs": [],
   "source": []
  },
  {
   "cell_type": "code",
   "execution_count": null,
   "metadata": {},
   "outputs": [],
   "source": []
  },
  {
   "cell_type": "code",
   "execution_count": null,
   "metadata": {},
   "outputs": [],
   "source": []
  },
  {
   "cell_type": "code",
   "execution_count": null,
   "metadata": {},
   "outputs": [],
   "source": []
  }
 ],
 "metadata": {
  "kernelspec": {
   "display_name": "Python 3",
   "language": "python",
   "name": "python3"
  },
  "language_info": {
   "codemirror_mode": {
    "name": "ipython",
    "version": 3
   },
   "file_extension": ".py",
   "mimetype": "text/x-python",
   "name": "python",
   "nbconvert_exporter": "python",
   "pygments_lexer": "ipython3",
   "version": "3.8.1"
  }
 },
 "nbformat": 4,
 "nbformat_minor": 4
}
