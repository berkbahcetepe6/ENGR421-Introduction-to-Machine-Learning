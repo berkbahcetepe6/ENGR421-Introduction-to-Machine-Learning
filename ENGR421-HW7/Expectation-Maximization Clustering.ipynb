{
 "cells": [
  {
   "cell_type": "code",
   "execution_count": 18,
   "metadata": {},
   "outputs": [],
   "source": [
    "import matplotlib.pyplot as plt\n",
    "import numpy as np\n",
    "import scipy.spatial as spa\n",
    "import scipy.stats as stats"
   ]
  },
  {
   "cell_type": "code",
   "execution_count": 3,
   "metadata": {},
   "outputs": [],
   "source": [
    "# read data into memory\n",
    "data_set = np.genfromtxt(\"hw07_data_set.csv\", delimiter = \",\")\n",
    "initial_centroids = np.genfromtxt(\"hw07_initial_centroids.csv\", delimiter = \",\")"
   ]
  },
  {
   "cell_type": "code",
   "execution_count": 19,
   "metadata": {},
   "outputs": [],
   "source": [
    "class_means = np.array([[2.5,2.5],[-2.5,2.5],[-2.5,-2.5],[2.5,-2.5],[0,0]])\n",
    "class_covs = np.array([[[0.8,-0.6],[-0.6,0.8]],[[0.8,0.6],[0.6,0.8]],[[0.8,-0.6],[-0.6,0.8]],[[0.8,0.6],[0.6,0.8]],[[1.6,0],[0,1.6]]])\n",
    "class_sizes = np.array([50,50,50,50,100])"
   ]
  },
  {
   "cell_type": "code",
   "execution_count": 17,
   "metadata": {},
   "outputs": [],
   "source": [
    "#define variables\n",
    "K = 5 #number of clusters\n",
    "N = len(data_set) #number of data points\n",
    "D = data_set.shape[1] #number of features"
   ]
  },
  {
   "cell_type": "code",
   "execution_count": 5,
   "metadata": {},
   "outputs": [],
   "source": [
    "def update_centroids(memberships, X, initial_centroids):\n",
    "    if memberships is None:\n",
    "        # initialize centroids\n",
    "        centroids = initial_centroids\n",
    "    else:\n",
    "        # update centroids\n",
    "        centroids = np.vstack([np.mean(X[memberships == k,:], axis = 0) for k in range(K)])\n",
    "    return(centroids)\n",
    "\n",
    "def update_memberships(centroids, X):\n",
    "    # calculate distances between centroids and data points\n",
    "    D = spa.distance_matrix(centroids, X)\n",
    "    # find the nearest centroid for each data point\n",
    "    memberships = np.argmin(D, axis = 0)\n",
    "    return(memberships)"
   ]
  },
  {
   "cell_type": "code",
   "execution_count": null,
   "metadata": {},
   "outputs": [],
   "source": []
  },
  {
   "cell_type": "code",
   "execution_count": 6,
   "metadata": {},
   "outputs": [
    {
     "data": {
      "text/plain": [
       "Text(0, 0.5, '$x_2$')"
      ]
     },
     "execution_count": 6,
     "metadata": {},
     "output_type": "execute_result"
    },
    {
     "data": {
      "image/png": "[encoded data removed]",
      "text/plain": [
       "<Figure size 432x432 with 1 Axes>"
      ]
     },
     "metadata": {
      "needs_background": "light"
     },
     "output_type": "display_data"
    }
   ],
   "source": [
    "plt.figure(figsize=(6,6))\n",
    "plt.plot(data_set[:,0], data_set[:,1], \".\", markersize = 10, color = \"black\")\n",
    "plt.xlabel(\"$x_1$\")\n",
    "plt.ylabel(\"$x_2$\")"
   ]
  },
  {
   "cell_type": "code",
   "execution_count": null,
   "metadata": {},
   "outputs": [],
   "source": []
  },
  {
   "cell_type": "code",
   "execution_count": 7,
   "metadata": {},
   "outputs": [],
   "source": [
    "centroids = None\n",
    "memberships = None\n",
    "while True:\n",
    "\n",
    "    old_centroids = centroids\n",
    "    centroids = update_centroids(memberships, data_set, initial_centroids)\n",
    "    if np.alltrue(centroids == old_centroids):\n",
    "        break\n",
    "\n",
    "    old_memberships = memberships\n",
    "    memberships = update_memberships(centroids, data_set)\n",
    "    if np.alltrue(memberships == old_memberships):\n",
    "        break"
   ]
  },
  {
   "cell_type": "code",
   "execution_count": 20,
   "metadata": {},
   "outputs": [],
   "source": [
    "sample_means = centroids\n",
    "class_priors = [class_sizes[c]/K for c in range(K)]"
   ]
  },
  {
   "cell_type": "code",
   "execution_count": 35,
   "metadata": {},
   "outputs": [],
   "source": [
    "gaussian_density = [stats.multivariate_normal.pdf(data_set, sample_means[c]) for c in range(K)]\n",
    "h = np.zeros((N, K))"
   ]
  },
  {
   "cell_type": "code",
   "execution_count": 84,
   "metadata": {},
   "outputs": [],
   "source": [
    "for i in range(100):\n",
    "    for k in range(K):\n",
    "        for n in range(N):\n",
    "            h[n][k] = class_priors[k] * gaussian_density[k][n]\n",
    "            h[n][k] = h[n][k] / np.sum(h[:,k])"
   ]
  },
  {
   "cell_type": "code",
   "execution_count": 85,
   "metadata": {},
   "outputs": [],
   "source": [
    "class_priors_2 = [np.sum(h[:,k])/N for k in range(K)]"
   ]
  },
  {
   "cell_type": "code",
   "execution_count": 99,
   "metadata": {},
   "outputs": [],
   "source": [
    "sample_means_2 = [h[:,k].dot(data_set) / np.sum(h[:,k]) for k in range(K)]"
   ]
  },
  {
   "cell_type": "code",
   "execution_count": 101,
   "metadata": {},
   "outputs": [
    {
     "ename": "ValueError",
     "evalue": "operands could not be broadcast together with shapes (5,) (300,2) ",
     "output_type": "error",
     "traceback": [
      "\u001b[1;31m---------------------------------------------------------------------------\u001b[0m",
      "\u001b[1;31mValueError\u001b[0m                                Traceback (most recent call last)",
      "\u001b[1;32m<ipython-input-101-ac6236fe35ba>\u001b[0m in \u001b[0;36m<module>\u001b[1;34m\u001b[0m\n\u001b[1;32m----> 1\u001b[1;33m \u001b[0msample_covariances\u001b[0m \u001b[1;33m=\u001b[0m \u001b[1;33m[\u001b[0m\u001b[0mnp\u001b[0m\u001b[1;33m.\u001b[0m\u001b[0msum\u001b[0m\u001b[1;33m(\u001b[0m\u001b[0mh\u001b[0m\u001b[1;33m[\u001b[0m\u001b[0mk\u001b[0m\u001b[1;33m]\u001b[0m\u001b[1;33m*\u001b[0m \u001b[1;33m(\u001b[0m\u001b[0mdata_set\u001b[0m \u001b[1;33m-\u001b[0m \u001b[0msample_means_2\u001b[0m\u001b[1;33m[\u001b[0m\u001b[0mk\u001b[0m\u001b[1;33m]\u001b[0m\u001b[1;33m)\u001b[0m\u001b[1;33m*\u001b[0m \u001b[0mnp\u001b[0m\u001b[1;33m.\u001b[0m\u001b[0mtranpose\u001b[0m\u001b[1;33m(\u001b[0m\u001b[0mdata_set\u001b[0m \u001b[1;33m-\u001b[0m \u001b[0msample_means_2\u001b[0m\u001b[1;33m[\u001b[0m\u001b[0mk\u001b[0m\u001b[1;33m]\u001b[0m\u001b[1;33m)\u001b[0m\u001b[1;33m)\u001b[0m\u001b[1;33m/\u001b[0m \u001b[0mnp\u001b[0m\u001b[1;33m.\u001b[0m\u001b[0msum\u001b[0m\u001b[1;33m(\u001b[0m\u001b[0mh\u001b[0m\u001b[1;33m[\u001b[0m\u001b[1;33m:\u001b[0m\u001b[1;33m,\u001b[0m\u001b[0mk\u001b[0m\u001b[1;33m]\u001b[0m\u001b[1;33m)\u001b[0m\u001b[1;33m]\u001b[0m\u001b[1;33m\u001b[0m\u001b[1;33m\u001b[0m\u001b[0m\n\u001b[0m",
      "\u001b[1;31mValueError\u001b[0m: operands could not be broadcast together with shapes (5,) (300,2) "
     ]
    }
   ],
   "source": [
    "sample_covariances = [h[:,k]* (data_set - sample_means_2[k])* np.tranpose(data_set - sample_means_2[k]))/ np.sum(h[:,k])]"
   ]
  },
  {
   "cell_type": "code",
   "execution_count": 102,
   "metadata": {},
   "outputs": [
    {
     "data": {
      "text/plain": [
       "[array([-2.25815873, -2.39823969]),\n",
       " array([2.2689171 , 2.39325799]),\n",
       " array([ 2.51421874, -2.39050064]),\n",
       " array([0.19033602, 0.00816518]),\n",
       " array([-2.16838772,  2.34072491])]"
      ]
     },
     "execution_count": 102,
     "metadata": {},
     "output_type": "execute_result"
    }
   ],
   "source": [
    "sample_means_2"
   ]
  },
  {
   "cell_type": "code",
   "execution_count": null,
   "metadata": {},
   "outputs": [],
   "source": []
  },
  {
   "cell_type": "code",
   "execution_count": null,
   "metadata": {},
   "outputs": [],
   "source": []
  }
 ],
 "metadata": {
  "kernelspec": {
   "display_name": "Python 3",
   "language": "python",
   "name": "python3"
  },
  "language_info": {
   "codemirror_mode": {
    "name": "ipython",
    "version": 3
   },
   "file_extension": ".py",
   "mimetype": "text/x-python",
   "name": "python",
   "nbconvert_exporter": "python",
   "pygments_lexer": "ipython3",
   "version": "3.8.1"
  }
 },
 "nbformat": 4,
 "nbformat_minor": 4
}
