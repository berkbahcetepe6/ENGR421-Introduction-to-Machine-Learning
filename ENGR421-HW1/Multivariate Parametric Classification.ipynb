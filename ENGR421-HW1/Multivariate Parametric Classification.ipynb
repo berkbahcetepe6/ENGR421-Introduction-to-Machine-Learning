{
 "cells": [
  {
   "cell_type": "code",
   "execution_count": 86,
   "metadata": {},
   "outputs": [],
   "source": [
    "#imports the necessary libraries\n",
    "import numpy as np\n",
    "import matplotlib.pyplot as plt\n",
    "import scipy.linalg as linalg\n",
    "import scipy.stats as stats\n",
    "import math\n",
    "import pandas as pd"
   ]
  },
  {
   "cell_type": "code",
   "execution_count": 87,
   "metadata": {},
   "outputs": [],
   "source": [
    "#creats the parameters which are going to be used for generating the data points\n",
    "class_means = np.array([[0.0,2.5],[-2.5,-2.0],[2.5,-2.0]])\n",
    "class_sigmas = np.array([[[3.2,0.0],[0.0,1.2]],[[1.2,0.8],[0.8,1.2]],[[1.2,-0.8],[-0.8,1.2]]])\n",
    "class_sizes = np.array([120,80,100])"
   ]
  },
  {
   "cell_type": "code",
   "execution_count": 88,
   "metadata": {},
   "outputs": [],
   "source": [
    "#creates the data points for each class\n",
    "points1 = np.random.multivariate_normal(class_means[0,:],class_sigmas[0,:,:],class_sizes[0]) \n",
    "points2 = np.random.multivariate_normal(class_means[1,:],class_sigmas[1,:,:],class_sizes[1]) \n",
    "points3 = np.random.multivariate_normal(class_means[2,:],class_sigmas[2,:,:],class_sizes[2]) \n",
    "points = np.concatenate((points1,points2,points3))"
   ]
  },
  {
   "cell_type": "code",
   "execution_count": 89,
   "metadata": {},
   "outputs": [
    {
     "data": {
      "image/png": "[encoded data removed]",
      "text/plain": [
       "<Figure size 504x360 with 1 Axes>"
      ]
     },
     "metadata": {
      "needs_background": "light"
     },
     "output_type": "display_data"
    }
   ],
   "source": [
    "#plots the figure in Q2\n",
    "plt.figure(figsize=(7,5))\n",
    "plt.plot(points1[:,0],points1[:,1],\"r.\",markersize=10)\n",
    "plt.plot(points2[:,0],points2[:,1],\"g.\",markersize=10)\n",
    "plt.plot(points3[:,0],points3[:,1],\"b.\",markersize=10)\n",
    "plt.xlabel(\"x1\")\n",
    "plt.ylabel(\"x2\")\n",
    "plt.show()"
   ]
  },
  {
   "cell_type": "code",
   "execution_count": 90,
   "metadata": {},
   "outputs": [],
   "source": [
    "#assigns class numbers for each class\n",
    "y = np.concatenate((np.repeat(1,class_sizes[0]),np.repeat(2,class_sizes[1]),np.repeat(3,class_sizes[2])))"
   ]
  },
  {
   "cell_type": "code",
   "execution_count": 91,
   "metadata": {},
   "outputs": [],
   "source": [
    "#saves the data points in a .csv file and grabs it under the name of data_set\n",
    "np.savetxt(\"hw1_data_set.csv\",np.hstack((points,y[:,None])),fmt=\"%f %f %d\")\n",
    "data_set = np.genfromtxt(\"hw1_data_set.csv\")"
   ]
  },
  {
   "cell_type": "code",
   "execution_count": 92,
   "metadata": {},
   "outputs": [],
   "source": [
    "#takes the first two column as x and the last column as y, convert the floating numbers in y to integer\n",
    "x = data_set[:,0:2]\n",
    "y = data_set[:,2]\n",
    "y = y.astype(int)"
   ]
  },
  {
   "cell_type": "code",
   "execution_count": 93,
   "metadata": {},
   "outputs": [],
   "source": [
    "K = np.max(y)"
   ]
  },
  {
   "cell_type": "code",
   "execution_count": 94,
   "metadata": {},
   "outputs": [],
   "source": [
    "#calculates the sample means, covariances and prior probabilities for each class by using the formulas I have learned in the lecture\n",
    "sample_means=[[np.mean(x[:,0][y==(c+1)]),np.mean(x[:,1][y==(c+1)])] for c in range(K)]\n",
    "class_priors = [np.mean(y==(c+1)) for c in range(K)]\n",
    "sample_covariances = [np.cov(np.transpose(x[y==c+1]),bias=True) for c in range(K)]"
   ]
  },
  {
   "cell_type": "code",
   "execution_count": 95,
   "metadata": {},
   "outputs": [
    {
     "name": "stdout",
     "output_type": "stream",
     "text": [
      "[[0.055077099999999955, 2.5247606916666663], [-2.47544105, -2.051722525], [2.4836940400000005, -1.9372353999999998]]\n"
     ]
    }
   ],
   "source": [
    "print(sample_means)"
   ]
  },
  {
   "cell_type": "code",
   "execution_count": 96,
   "metadata": {},
   "outputs": [
    {
     "name": "stdout",
     "output_type": "stream",
     "text": [
      "[0.4, 0.26666666666666666, 0.3333333333333333]\n"
     ]
    }
   ],
   "source": [
    "print(class_priors)"
   ]
  },
  {
   "cell_type": "code",
   "execution_count": 97,
   "metadata": {},
   "outputs": [
    {
     "name": "stdout",
     "output_type": "stream",
     "text": [
      "[array([[3.35098936, 0.13584567],\n",
      "       [0.13584567, 1.22199989]]), array([[1.24373031, 0.92319256],\n",
      "       [0.92319256, 1.32565163]]), array([[ 1.06288021, -0.73866295],\n",
      "       [-0.73866295,  1.08902499]])]\n"
     ]
    }
   ],
   "source": [
    "print(sample_covariances)"
   ]
  },
  {
   "cell_type": "code",
   "execution_count": 98,
   "metadata": {},
   "outputs": [],
   "source": [
    "#calculates the parameters Wc, wc and wc0 for a quadratic gscore function\n",
    "Wc =np.array([(-1/2)*np.linalg.inv(sample_covariances[c]) for c in range(K)])\n",
    "wc =np.array([np.matmul(np.linalg.inv(sample_covariances[c]),sample_means[c]) for c in range(K)])\n",
    "wc0 =np.array([-0.5*(np.matmul(np.matmul(np.transpose(sample_means[c]),np.linalg.inv(sample_covariances[c])),sample_means[c]))-\n",
    "        (x.shape[1]/2)*(np.log(2*math.pi))-\n",
    "      0.5*np.log(np.linalg.det(sample_covariances[c]))+\n",
    "      np.log(class_priors[c]) for c in range(K)])"
   ]
  },
  {
   "cell_type": "code",
   "execution_count": 103,
   "metadata": {},
   "outputs": [],
   "source": [
    "#calculates the score functions for each class and data point, stores the gscore values of\n",
    "#each class into a single row and does the same operation for each data point\n",
    "def gscore_calculator(x):\n",
    "    scores = []\n",
    "    for c in range(K):\n",
    "        score = np.matmul(np.matmul(np.transpose(x),Wc[c]),x)+np.matmul(np.transpose(wc[c]),x)+wc0[c]\n",
    "        scores.append(score)\n",
    "    return scores"
   ]
  },
  {
   "cell_type": "code",
   "execution_count": 104,
   "metadata": {},
   "outputs": [],
   "source": [
    "#stores the gscores of each class and data point into an array\n",
    "gscore_storer=[]\n",
    "for i in range(x.shape[0]):\n",
    "    score = gscore_calculator(x[i])\n",
    "    gscore_storer.append(score)"
   ]
  },
  {
   "cell_type": "code",
   "execution_count": 105,
   "metadata": {},
   "outputs": [],
   "source": [
    "#stores the the maximum indices of each row and add 1 to it in order to\n",
    "#determine which class has higher gscore for each row and thus the\n",
    "#prediction\n",
    "y_predictions = np.array([])\n",
    "for i in range(x.shape[0]):\n",
    "    max_index = np.where(gscore_storer[i]==np.amax(gscore_storer[i]))\n",
    "    y_predictions=np.append(y_predictions,max_index[0][0]+1).astype(int)"
   ]
  },
  {
   "cell_type": "code",
   "execution_count": 106,
   "metadata": {},
   "outputs": [],
   "source": [
    "#calculates the confusion matrix\n",
    "y_truth = y\n",
    "confusion_matrix = pd.crosstab(y_predictions,y_truth,rownames=[\"y_pred\"],colnames=[\"y_truth\"])"
   ]
  },
  {
   "cell_type": "code",
   "execution_count": 107,
   "metadata": {},
   "outputs": [
    {
     "name": "stdout",
     "output_type": "stream",
     "text": [
      "y_truth    1   2   3\n",
      "y_pred              \n",
      "1        119   1   0\n",
      "2          1  77   1\n",
      "3          0   2  99\n"
     ]
    }
   ],
   "source": [
    "print(confusion_matrix)\n",
    "\n"
   ]
  },
  {
   "cell_type": "code",
   "execution_count": 108,
   "metadata": {},
   "outputs": [],
   "source": [
    "x1_interval = np.linspace(-6, +6, 1201)\n",
    "x2_interval = np.linspace(-6, +6, 1201)\n",
    "x1_grid, x2_grid = np.meshgrid(x1_interval, x2_interval)"
   ]
  },
  {
   "cell_type": "code",
   "execution_count": 109,
   "metadata": {},
   "outputs": [
    {
     "name": "stderr",
     "output_type": "stream",
     "text": [
      "<ipython-input-109-f604061beaa7>:12: RuntimeWarning: invalid value encountered in less\n",
      "  class_green[(class_green < class_red) & (class_green < class_blue)] = np.nan\n",
      "<ipython-input-109-f604061beaa7>:13: RuntimeWarning: invalid value encountered in less\n",
      "  class_blue[(class_blue < class_red) & (class_blue < class_green)] = np.nan\n"
     ]
    }
   ],
   "source": [
    "#initializes the discrimint value array\n",
    "discriminant_values = np.zeros((len(x1_interval), len(x2_interval), K))\n",
    "#creates the decision boundries for each class\n",
    "for c in range(K):\n",
    "    discriminant_values[:,:,c] =Wc[c][0][0]*x1_grid**2+ Wc[c][1][0]*x1_grid*x2_grid+Wc[c][0][1]*x1_grid*x2_grid + Wc[c][1][1]*x2_grid**2+ wc[c][0] * x1_grid + wc[c][1] * x2_grid + wc0[c]\n",
    "    \n",
    "class_red = discriminant_values[:,:,0]\n",
    "class_green = discriminant_values[:,:,1]\n",
    "class_blue = discriminant_values[:,:,2]\n",
    "\n",
    "class_red[(class_red < class_green) & (class_red < class_blue)] = np.nan\n",
    "class_green[(class_green < class_red) & (class_green < class_blue)] = np.nan\n",
    "class_blue[(class_blue < class_red) & (class_blue < class_green)] = np.nan\n"
   ]
  },
  {
   "cell_type": "code",
   "execution_count": null,
   "metadata": {},
   "outputs": [],
   "source": []
  },
  {
   "cell_type": "code",
   "execution_count": 110,
   "metadata": {},
   "outputs": [
    {
     "data": {
      "text/plain": [
       "<matplotlib.contour.QuadContourSet at 0x1d0d0a1abb0>"
      ]
     },
     "execution_count": 110,
     "metadata": {},
     "output_type": "execute_result"
    },
    {
     "data": {
      "image/png": "[encoded data removed]",
      "text/plain": [
       "<Figure size 576x576 with 1 Axes>"
      ]
     },
     "metadata": {
      "needs_background": "light"
     },
     "output_type": "display_data"
    }
   ],
   "source": [
    "#plots the decision boundries and detects the mispredicted ones\n",
    "plt.figure(figsize=(8,8))\n",
    "plt.plot(x[y_truth == 1, 0], x[y_truth == 1, 1], \"r.\", markersize = 10)\n",
    "plt.plot(x[y_truth == 2, 0], x[y_truth == 2, 1], \"g.\", markersize = 10)\n",
    "plt.plot(x[y_truth == 3, 0], x[y_truth == 3, 1], \"b.\", markersize = 10)\n",
    "plt.plot(x[y_predictions != y_truth, 0], x[y_predictions != y_truth, 1], \"ko\", markersize = 12, fillstyle = \"none\")\n",
    "plt.contour(x1_grid, x2_grid, class_red-class_green, levels=0, colors=\"k\")\n",
    "plt.contour(x1_grid, x2_grid, class_red-class_blue, levels=0, colors=\"k\")\n",
    "plt.contour(x1_grid, x2_grid, class_green-class_blue, levels=0, colors=\"k\")"
   ]
  },
  {
   "cell_type": "code",
   "execution_count": null,
   "metadata": {},
   "outputs": [],
   "source": []
  }
 ],
 "metadata": {
  "kernelspec": {
   "display_name": "Python 3",
   "language": "python",
   "name": "python3"
  },
  "language_info": {
   "codemirror_mode": {
    "name": "ipython",
    "version": 3
   },
   "file_extension": ".py",
   "mimetype": "text/x-python",
   "name": "python",
   "nbconvert_exporter": "python",
   "pygments_lexer": "ipython3",
   "version": "3.8.1"
  }
 },
 "nbformat": 4,
 "nbformat_minor": 4
}
